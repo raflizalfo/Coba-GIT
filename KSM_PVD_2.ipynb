{
  "nbformat": 4,
  "nbformat_minor": 0,
  "metadata": {
    "colab": {
      "name": "KSM_PVD_2.ipynb",
      "provenance": [],
      "collapsed_sections": [
        "AQPKsYlfLkRC",
        "RLnLLUE0R8zy",
        "dk4d94sO-YPD",
        "IJ38WRID_t_P",
        "dXayb3n5Ckws"
      ],
      "toc_visible": true,
      "authorship_tag": "ABX9TyNnfOD//552+5INMG+wNsVc",
      "include_colab_link": true
    },
    "kernelspec": {
      "name": "ir",
      "display_name": "R"
    },
    "language_info": {
      "name": "R"
    }
  },
  "cells": [
    {
      "cell_type": "markdown",
      "metadata": {
        "id": "view-in-github",
        "colab_type": "text"
      },
      "source": [
        "<a href=\"https://colab.research.google.com/github/raflizalfo/Coba-GIT/blob/master/KSM_PVD_2.ipynb\" target=\"_parent\"><img src=\"https://colab.research.google.com/assets/colab-badge.svg\" alt=\"Open In Colab\"/></a>"
      ]
    },
    {
      "cell_type": "markdown",
      "metadata": {
        "id": "GihbmO4NKbjQ"
      },
      "source": [
        "# **Best Practice Coding Using R**\n",
        "Minggu, 31 Oktober 2021 \n",
        "\n",
        "**KSM PVD 2**"
      ]
    },
    {
      "cell_type": "markdown",
      "metadata": {
        "id": "xrSgmE5sKw2i"
      },
      "source": [
        "Sumber acuan materi:\n",
        "\n",
        "1. The tidyverse styleguide: https://style.tidyverse.org/index.html\n",
        "2. R Best Practices: https://blog.quantinsti.com/r-best-practices-r-you-writing-the-r-way/\n",
        "3. Beyond Basic R - Introduction and Best Practices: https://waterdata.usgs.gov/blog/intro-best-practices/\n",
        "4. Best Practices for Writing R Code: https://swcarpentry.github.io/r-novice-inflammation/06-best-practices-R/\n",
        "5. Basic Syntax Markdown: https://www.markdownguide.org/basic-syntax\n"
      ]
    },
    {
      "cell_type": "markdown",
      "metadata": {
        "id": "AQPKsYlfLkRC"
      },
      "source": [
        "##**Manajerial Folder dan File**"
      ]
    },
    {
      "cell_type": "markdown",
      "metadata": {
        "id": "5AnBfp83L_kq"
      },
      "source": [
        "1. Sebuah proyek harus diletakkan dalam satu folder yang sama. Apabila ingin mengakses suatu file tertentu, cukup menggunakan *relative path* saja."
      ]
    },
    {
      "cell_type": "code",
      "metadata": {
        "id": "eM6RaRuSMPpo"
      },
      "source": [
        "## GOOD\n",
        "# data_riset1 <- read.csv(\"Data_Riset/riset1.csv\", header = TRUE)\n",
        "\n",
        "## BAD\n",
        "# data_riset3 <- read.csv(\"D:/FOLDER KULIAH/STIS/SEMESTER 5/PKL/PVD/Data_Riset/riset1.csv\", header = TRUE)"
      ],
      "execution_count": null,
      "outputs": []
    },
    {
      "cell_type": "markdown",
      "metadata": {
        "id": "TUJXVBrtM-2Q"
      },
      "source": [
        "2. Data berupa input, output, dan source ode diusahakan diletakkan dalam folder yang berbeda.\n",
        "3. Penamaan file harus sesuai dengan konteks isi di dalammnya, serta menghindari adanya karakter-karakter khusus maupun whitespace."
      ]
    },
    {
      "cell_type": "code",
      "metadata": {
        "id": "Z72I4-qfMy5p"
      },
      "source": [
        "## GOOD\n",
        "# estimasi_luas_lahan.R\n",
        "# visualisasi_tutupan_lahan.R\n",
        "\n",
        "## BAD\n",
        "# estimasi luas lahan.R\n",
        "# estimasi.R\n",
        "# visualisasi.R"
      ],
      "execution_count": null,
      "outputs": []
    },
    {
      "cell_type": "markdown",
      "metadata": {
        "id": "Dy6coDQDOvUP"
      },
      "source": [
        "**Susunan Pengkodean**"
      ]
    },
    {
      "cell_type": "markdown",
      "metadata": {
        "id": "M7uPMZnnO41J"
      },
      "source": [
        "1. Letakkan pemanggilan library() dan hard-coded variabel di bagian awal (atas) source code."
      ]
    },
    {
      "cell_type": "code",
      "metadata": {
        "id": "5ZJUS85_O3Kf"
      },
      "source": [
        "## Instalasi package/module yang dibutuhkan\n",
        "# install.packages(\"xlsx\")\n",
        "# install.packages(\"tidyr\")\n",
        "# install.packages(\"ggplot2\")\n",
        "\n",
        "## Lakukan load library \n",
        "library(xlsx)\n",
        "library(tidyr)\n",
        "library(ggplot2)\n",
        "\n",
        "# file_data <- read.excel(\"Data_Riset/riset1.xlsx\", header = TRUE)"
      ],
      "execution_count": null,
      "outputs": []
    },
    {
      "cell_type": "markdown",
      "metadata": {
        "id": "-_2S_-4IQede"
      },
      "source": [
        "2. Gunakan indentasi  4-8 spasi, sehingga kode tampak rapi dan jelas scopenya."
      ]
    },
    {
      "cell_type": "code",
      "metadata": {
        "id": "GQ3_n6geQ1Vv"
      },
      "source": [
        "# GOOD\n",
        "if (tinggi == 145) {\n",
        "    if (berat > 58) {\n",
        "        print(\"Overweight\")\n",
        "      } else {\n",
        "        print(\"Normal\")\n",
        "      }\n",
        "}\n",
        "\n",
        "# BAD\n",
        "if (tinggi == 145) {\n",
        "if (berat > 58) {\n",
        "print(\"Overweight\")\n",
        "} else {\n",
        "print(\"Normal\")\n",
        "}\n",
        "}"
      ],
      "execution_count": null,
      "outputs": []
    },
    {
      "cell_type": "code",
      "metadata": {
        "id": "dHNop3R_RECN"
      },
      "source": [
        "# GOOD\n",
        "addNumber <- function(a, b) {\n",
        "\ta + b\n",
        "}\n",
        "\n",
        "subtractNumber <- function(a, b) {\n",
        "\ta - b\n",
        "}\n",
        "\n",
        "addNumber(2, 3)\n",
        "subtractNumber(2, 3)\n",
        "\n",
        "# BAD\n",
        "addNumber <- function(a, b) {\n",
        "\ta + b\n",
        "}\n",
        "addNumber(2, 3)\n",
        "\n",
        "subtractNumber <- function(a, b) {\n",
        "\ta - b\n",
        "}\n",
        "subtractNumber(2, 3)"
      ],
      "execution_count": null,
      "outputs": []
    },
    {
      "cell_type": "code",
      "metadata": {
        "id": "KCK-PuubRGjs"
      },
      "source": [
        "# GOOD\n",
        "library(dplyr)\n",
        "library(ggplot2)\n",
        "\n",
        "file_input <- \"riset1.csv\"\n",
        "file_output <- \"peta_persebaran_petani.png\"\n",
        "\n",
        "data_riset1 <- read.csv(file_input)\n",
        "head(data_riset1)\n",
        "\n",
        "# BAD\n",
        "library(dplyr)\n",
        "library(ggplot2)\n",
        "file_input <- \"riset1.csv\"\n",
        "data_riset1 <- read.csv(file_input)\n",
        "head(data_riset1)\n",
        "file_output <- \"peta_persebaran_petani.png\""
      ],
      "execution_count": null,
      "outputs": []
    },
    {
      "cell_type": "markdown",
      "metadata": {
        "id": "RLnLLUE0R8zy"
      },
      "source": [
        "##**Penulisan Sintaks**"
      ]
    },
    {
      "cell_type": "markdown",
      "metadata": {
        "id": "9IemQor_SLLO"
      },
      "source": [
        "**1. Penamaan Variabel dan Fungsi**\n",
        "\n",
        "a. Nama variabel menggambarkan isi dari variabel atau function dan harus jelas"
      ]
    },
    {
      "cell_type": "code",
      "metadata": {
        "id": "O2HlH1dFSfeL"
      },
      "source": [
        "## Good\n",
        "# day_one\n",
        "\n",
        "## Bad\n",
        "# first_day_of_the_month\n",
        "# fdotm\n",
        "# do"
      ],
      "execution_count": null,
      "outputs": []
    },
    {
      "cell_type": "markdown",
      "metadata": {
        "id": "Vz1tFFYrSl8s"
      },
      "source": [
        "b. Jika memungkinkan, hindari penggunaan nama yang telah dipakai oleh R (reserved word)"
      ]
    },
    {
      "cell_type": "code",
      "metadata": {
        "id": "gOJTfRt1SCCB"
      },
      "source": [
        "## GOOD\n",
        "# lst < c(10, 20)\n",
        "# mean_x <- mean(x)\n",
        "\n",
        "## BAD\n",
        "# c <- c(10, 20)\n",
        "# mean <- mean(x)"
      ],
      "execution_count": null,
      "outputs": []
    },
    {
      "cell_type": "markdown",
      "metadata": {
        "id": "o6KNED34TS14"
      },
      "source": [
        "c. Konsistensi dalam gaya tulisan"
      ]
    },
    {
      "cell_type": "code",
      "metadata": {
        "id": "0oJQcPttTWpj"
      },
      "source": [
        "# camelCase\n",
        "addNumber\n",
        "fileInput\n",
        "fileOutput\n",
        "\n",
        "# snake_case\n",
        "add_number\n",
        "file_input\n",
        "file_output"
      ],
      "execution_count": null,
      "outputs": []
    },
    {
      "cell_type": "markdown",
      "metadata": {
        "id": "MqnKDU7JTV33"
      },
      "source": [
        "**2. Penggunaan Spasi**\n",
        "\n",
        "+ Gunakan spasi setelah koma pada saat menulis suatu array (sebelum koma tidak pakai spasi).\n",
        "\n",
        "+ Jangan gunakan spasi didalam dan diluar pada tanda kurung ketika melakukan pemanggilan fungsi\n",
        "\n",
        "+ Gunakan spasi sebelum dan sesudah ( ) ketika menggunakan if, for, dan while."
      ]
    },
    {
      "cell_type": "code",
      "metadata": {
        "id": "5N2QKzO72_aO"
      },
      "source": [
        "x = matrix(c(1,2,3,4,5,6), nrow=2)\n",
        "\n",
        "# GOOD\n",
        "x[, 1]\n",
        "\n",
        "# BAD\n",
        "x[,1]\n",
        "x[ ,1]\n",
        "x[ , 1]"
      ],
      "execution_count": null,
      "outputs": []
    },
    {
      "cell_type": "code",
      "metadata": {
        "id": "kJZRn2EqR7Qx"
      },
      "source": [
        "# GOOD\n",
        "mean(x, na.rm = TRUE)\n",
        "\n",
        "# BAD\n",
        "mean (x, na.rm = TRUE)\n",
        "mean( x, na.rm = TRUE )\n",
        "\n",
        "# GOOD\n",
        "if (debug) {\n",
        "    show(x)\n",
        "}\n",
        "\n",
        "# BAD\n",
        "if(debug){\n",
        "  )\n",
        "}"
      ],
      "execution_count": null,
      "outputs": []
    },
    {
      "cell_type": "markdown",
      "metadata": {
        "id": "w_RJdAR13fsP"
      },
      "source": [
        "+ Gunakan spasi setelah ( ) ketika digunakan pada function"
      ]
    },
    {
      "cell_type": "code",
      "metadata": {
        "id": "_9YGKGS44fRo"
      },
      "source": [
        "# GOOD\n",
        "function(x) {\n",
        "    # kode\n",
        "}\n",
        "addNumber <- function(a,b) {\n",
        "    # kode\n",
        "}\n",
        "\n",
        "# Bad\n",
        "function (x) {\n",
        "    # kode\n",
        "}\n",
        "function(x){\n",
        "    # kode\n",
        "}"
      ],
      "execution_count": null,
      "outputs": []
    },
    {
      "cell_type": "markdown",
      "metadata": {
        "id": "2liAAhCc40AU"
      },
      "source": [
        "+ Infliks operator (==, +, <-, dll) harus dikelilingi oleh spasi."
      ]
    },
    {
      "cell_type": "code",
      "metadata": {
        "id": "fKQxMqCv4-sN"
      },
      "source": [
        "# GOOD\n",
        "height <- (feet * 12) + inches\n",
        "mean(x, na.rm = TRUE)\n",
        "\n",
        "# BAD\n",
        "height<-feet*12+inches\n",
        "mean(x, na.rm=TRUE)"
      ],
      "execution_count": null,
      "outputs": []
    },
    {
      "cell_type": "markdown",
      "metadata": {
        "id": "ME2WaSee5Q8d"
      },
      "source": [
        "**3.  Penulisan Fungsi**\n",
        "\n",
        "+ Nama argumen hanya ditulis untuk argumen yang opsional."
      ]
    },
    {
      "cell_type": "code",
      "metadata": {
        "id": "JGrqWptq5ZxL"
      },
      "source": [
        "# GOOD\n",
        "mean(1:10, na.rm = TRUE)\n",
        "data_riset3 <- read.csv(\"data/riset3.csv\", header = TRUE)\n",
        "\n",
        "# BAD\n",
        "mean(x = 1:10, , FALSE)\n",
        "mean(, TRUE, x = c(1:10, NA))\n",
        "data_riset3 <- read.csv(file = \"data/riset3.csv\", header = TRUE)"
      ],
      "execution_count": null,
      "outputs": []
    },
    {
      "cell_type": "markdown",
      "metadata": {
        "id": "I6kd2JpJ5xBt"
      },
      "source": [
        "+ Hindari assingment pada pemanggilan fungsi"
      ]
    },
    {
      "cell_type": "code",
      "metadata": {
        "id": "v2gDHBXUG9QU"
      },
      "source": [
        "# GOOD\n",
        "x <- complicated_function()\n",
        "if (nzchar(x) < 1) {\n",
        "    # do something\n",
        "}\n",
        "\n",
        "# BAD\n",
        "if (nzchar(x <- complicated_function()) < 1) {\n",
        "    # do something\n",
        "}"
      ],
      "execution_count": null,
      "outputs": []
    },
    {
      "cell_type": "markdown",
      "metadata": {
        "id": "KmhjyA5p55wk"
      },
      "source": [
        "+ Gunakan return( ) hanya ketika ingin mengembalikan nilai ditengah-tengah fungsi."
      ]
    },
    {
      "cell_type": "code",
      "metadata": {
        "id": "gBg4MBVr58uA"
      },
      "source": [
        "# GOOD\n",
        "findAbs <- function(x) {\n",
        "    if (x > 0) {\n",
        "      return(x)\n",
        "    }\n",
        "    x * -1\n",
        "}\n",
        "addNumber <- function(a, b) {\n",
        "\t  a + b\n",
        "}\n",
        "\n",
        "# BAD\n",
        "addNumber <- function(a, b) {\n",
        "\t  return(a + b)\n",
        "}"
      ],
      "execution_count": null,
      "outputs": []
    },
    {
      "cell_type": "markdown",
      "metadata": {
        "id": "C1Xietc47FwR"
      },
      "source": [
        "**4. Control Flow**\n",
        "\n",
        "Penulisan if, harus menggunakan indentasi, tanda \"{\" berada satu baris dengan deklarasi if, dan \"}\" berada pada akhir dan berdiri sendiri (kecuali terdapat else)"
      ]
    },
    {
      "cell_type": "code",
      "metadata": {
        "id": "62gC7dre7ZrG"
      },
      "source": [
        "# GOOD\n",
        "if (y == 0) {\n",
        "      if (x > 0) {\n",
        "          log(x)\n",
        "      } else {\n",
        "      message(\"x is negative or zero\")\n",
        "      }\n",
        "} else {\n",
        "      y^x\n",
        "}\n",
        "\n",
        "# BAD\n",
        "if (y == 0) \n",
        "{\n",
        "if (x > 0) {\n",
        "\t    log(x)\n",
        "} \n",
        "else {\n",
        "    message(\"x is negative or zero\")\n",
        "}\n",
        "} else {\n",
        "\t    y^x\n",
        "}"
      ],
      "execution_count": null,
      "outputs": []
    },
    {
      "cell_type": "markdown",
      "metadata": {
        "id": "utMP9rZu72qA"
      },
      "source": [
        "**5. Long Lines**\n",
        "\n",
        "Jika pemanggilan function terlalu panjang, pecah dalam beberapa baris"
      ]
    },
    {
      "cell_type": "code",
      "metadata": {
        "id": "DVQArToW8DW-"
      },
      "source": [
        "# GOOD\n",
        "do_something_very_complicated(\n",
        "    something = \"that\",\n",
        "    requires = many,\n",
        "    arguments = \"some of which may be long\"\n",
        ")\n",
        "\n",
        "# BAD\n",
        "do_something_very_complicated(something = \"that\", requires = many, arguments = \"some of which may be long\")\n",
        "\n",
        "do_something_very_complicated(\"that\", requires, many, arguments,\n",
        "                              \"some of which may be long\"\n",
        "                              )\n"
      ],
      "execution_count": null,
      "outputs": []
    },
    {
      "cell_type": "markdown",
      "metadata": {
        "id": "yfcCKgaB8QJF"
      },
      "source": [
        "**6. Assignment**\n",
        "\n",
        "Gunakan <- untuk assignment variabel dan gunakan = untuk assignment nilai parameter pada pemanggilan function."
      ]
    },
    {
      "cell_type": "code",
      "metadata": {
        "id": "09sPpdwa8Wg_"
      },
      "source": [
        "# Good\n",
        "x <- 5\n",
        "mean_x <- mean(x, na.rm = TRUE)\n",
        "\n",
        "# BAD\n",
        "x = 5\n",
        "x <- mean(x, na.rm <- TRUE)"
      ],
      "execution_count": null,
      "outputs": []
    },
    {
      "cell_type": "markdown",
      "metadata": {
        "id": "iTZHbNLu8Zbj"
      },
      "source": [
        "**7. Komentar**\n",
        "\n",
        "Hindari memberikan komentar pada sesuatu yang sudah jelas. Komentar juga sebaiknya diberikan pada syntax yang jarang dipakai atau sulit dimengerti."
      ]
    },
    {
      "cell_type": "code",
      "metadata": {
        "id": "02Plf-pv8fnU"
      },
      "source": [
        "# GOOD\n",
        "\n",
        "# Mengkatagorikan apakah seseorang memilki berat yang normal/overweight\n",
        "if (tinggi < 145) {\n",
        "        if (berat > 58) {\n",
        "            print(\"Overweight\")\n",
        "    } else {\n",
        "    \tprint(\"Normal\")\n",
        "    }\n",
        "}\n",
        "\n",
        "# BAD\n",
        "\n",
        "# Jika tinggi lebih kecil dari 145 cm\n",
        "if (tinggi < 145) {\n",
        "\t      # Jika berat lebih besar dari 58 kg, maka overwight. Jika lebih kecil maka normal.\n",
        "        if (berat > 58) {\n",
        "            print(\"Overweight\")\n",
        "    } else {\n",
        "    \tprint(\"Normal\")\n",
        "    }\n",
        "}"
      ],
      "execution_count": null,
      "outputs": []
    },
    {
      "cell_type": "markdown",
      "metadata": {
        "id": "4N1f5-r676K4"
      },
      "source": [
        "**8. Pipe Operator**\n",
        "\n",
        "Pipes %>% sering digunakan ketika kita bekerja dengan library dplyr. Pipes ini berguna untuk meletakkan variabel yang berada disebelah kiri pipe menjadi argumen pertama pada fungsi yang ada disebelah kanan."
      ]
    },
    {
      "cell_type": "code",
      "metadata": {
        "id": "EbUBei1X8y-x"
      },
      "source": [
        "data_riset1 %>% \n",
        "\t    select(index_x) %>%\n",
        "    filter(index_x > 30) %>%\n",
        "    mean()"
      ],
      "execution_count": null,
      "outputs": []
    },
    {
      "cell_type": "markdown",
      "metadata": {
        "id": "3KrUIyWy85Rp"
      },
      "source": [
        "Perintah di atas ekuivalen dengan:"
      ]
    },
    {
      "cell_type": "code",
      "metadata": {
        "id": "Yloia4pz87oM"
      },
      "source": [
        "mean(filter(select(data_riset3, index_x)), index_x > 30)"
      ],
      "execution_count": null,
      "outputs": []
    },
    {
      "cell_type": "markdown",
      "metadata": {
        "id": "v0cMibW88_WW"
      },
      "source": [
        "**9. Spasi Pada Pipe Operator**\n",
        "\n",
        "Sebelum pipe harus memiliki spasi dan diikuti oleh baris baru. Baris baru diberikan indentasi."
      ]
    },
    {
      "cell_type": "code",
      "metadata": {
        "id": "MdyODDt59IEr"
      },
      "source": [
        "# GOOD\n",
        "iris %>%\n",
        "        group_by(Species) %>%\n",
        "        summarize_if(is.numeric, mean) %>%\n",
        "    ungroup() %>%\n",
        "    gather(measure, value, -Species) %>%\n",
        "    arrange(value)\n",
        "\n",
        "# BAD\n",
        "iris %>% group_by(Species) %>% summarize_all(mean) %>%\n",
        "ungroup %>% gather(measure, value, -Species) %>%\n",
        "arrange(value)"
      ],
      "execution_count": null,
      "outputs": []
    },
    {
      "cell_type": "markdown",
      "metadata": {
        "id": "0l0bL1y79N3I"
      },
      "source": [
        "**10. Long Lines Pada Pipe Operator**"
      ]
    },
    {
      "cell_type": "code",
      "metadata": {
        "id": "ddGILV-K9UVR"
      },
      "source": [
        "iris %>%\n",
        "      group_by(Species) %>%\n",
        "      summarise(\n",
        "          Sepal.Length = mean(Sepal.Length),\n",
        "          Sepal.Width = mean(Sepal.Width),\n",
        "          Species = n_distinct(Species)\n",
        "      ) %>%\n",
        "      filter(Sepal.Length > 2.5) "
      ],
      "execution_count": null,
      "outputs": []
    },
    {
      "cell_type": "markdown",
      "metadata": {
        "id": "lG-W32do9w77"
      },
      "source": [
        "**11. Short Pipes**"
      ]
    },
    {
      "cell_type": "code",
      "metadata": {
        "id": "Yr04MMT_91FF"
      },
      "source": [
        "# GOOD\n",
        "iris %>% arrange(Species)\n",
        "\n",
        "iris %>% \n",
        "  arrange(Species)\n",
        "\n",
        "# RECOMMENDED\n",
        "arrange(iris, Species)"
      ],
      "execution_count": null,
      "outputs": []
    },
    {
      "cell_type": "markdown",
      "metadata": {
        "id": "xCZ4jsO_98ni"
      },
      "source": [
        "**12. Tipe Assignment**"
      ]
    },
    {
      "cell_type": "markdown",
      "metadata": {
        "id": "o__yuqUi-CIX"
      },
      "source": [
        "+ Style 1"
      ]
    },
    {
      "cell_type": "code",
      "metadata": {
        "id": "m1L78QG3-Ec8"
      },
      "source": [
        "iris_long <-\n",
        "      iris %>%\n",
        "      gather(measure, value, -Species) %>%\n",
        "      arrange(-value)"
      ],
      "execution_count": null,
      "outputs": []
    },
    {
      "cell_type": "markdown",
      "metadata": {
        "id": "oddKMpP0-H7s"
      },
      "source": [
        "+ Style 2"
      ]
    },
    {
      "cell_type": "code",
      "metadata": {
        "id": "a-e6tg86-JXX"
      },
      "source": [
        "# RECOMMENDED\n",
        "iris_long <- iris %>%\n",
        "      gather(measure, value, -Species) %>%\n",
        "      arrange(-value)"
      ],
      "execution_count": null,
      "outputs": []
    },
    {
      "cell_type": "markdown",
      "metadata": {
        "id": "oT_EyDV--OUu"
      },
      "source": [
        "+ Style 3"
      ]
    },
    {
      "cell_type": "code",
      "metadata": {
        "id": "J01Y4Lys-QIi"
      },
      "source": [
        "iris %>%\n",
        "      gather(measure, value, -Species) %>%\n",
        "      arrange(-value) ->\n",
        "      iris_long\n"
      ],
      "execution_count": null,
      "outputs": []
    },
    {
      "cell_type": "markdown",
      "metadata": {
        "id": "dk4d94sO-YPD"
      },
      "source": [
        "## **Ggplot Operation (+)**"
      ]
    },
    {
      "cell_type": "markdown",
      "metadata": {
        "id": "23TL_4eE-wDZ"
      },
      "source": [
        "**1. Spasi**\n",
        "\n",
        "Sebelum \"+\" harus memiliki spasi dan diikuti oleh baris baru."
      ]
    },
    {
      "cell_type": "code",
      "metadata": {
        "id": "k1IUSbF4-22q"
      },
      "source": [
        "# GOOD\n",
        "iris %>%\n",
        "        filter(Species == \"setosa\") %>%\n",
        "        ggplot(aes(x = Sepal.Width, y = Sepal.Length)) +\n",
        "        geom_point()\n",
        "\n",
        "# BAD\n",
        "iris %>%\n",
        "        filter(Species == \"setosa\") %>%\n",
        "        ggplot(aes(x = Sepal.Width, y = Sepal.Length)) \n",
        "        + geom_point()\n",
        "\n",
        "# BAD\n",
        "iris %>%\n",
        "        filter(Species == \"setosa\") %>%\n",
        "        ggplot(aes(x = Sepal.Width, y = Sepal.Length)) + geom_point()\n",
        "        "
      ],
      "execution_count": null,
      "outputs": []
    },
    {
      "cell_type": "markdown",
      "metadata": {
        "id": "t56ubtak_FSn"
      },
      "source": [
        "**2. Long Lines**\n",
        "\n",
        "Jika argumen dalam ggplot telalu banyak, pecah menjadi beberapa baris"
      ]
    },
    {
      "cell_type": "code",
      "metadata": {
        "id": "LFIT73Ev-HeF"
      },
      "source": [
        "# GOOD\n",
        "iris %>% \n",
        "        ggplot(aes(x = Sepal.Width, y = Sepal.Length, color = Species)) +\n",
        "        geom_point() +\n",
        "        labs(\n",
        "                x = \"Sepal width, in cm\",\n",
        "                y = \"Sepal length, in cm\",\n",
        "                title = \"Sepal length vs. width of irises\"\n",
        "        ) \n",
        "\n",
        "# BAD\n",
        "iris %>% \n",
        "\tggplot(aes(x = Sepal.Width, y = Sepal.Length, color = Species)) +\n",
        "\tgeom_point() +\n",
        "\tlabs(x = \"Sepal width, in cm\", y = \"Sepal length, in cm\", title = \"Sepal length vs. width of irises\") \n",
        "  "
      ],
      "execution_count": null,
      "outputs": []
    },
    {
      "cell_type": "markdown",
      "metadata": {
        "id": "IJ38WRID_t_P"
      },
      "source": [
        "## **R Markdown**\n",
        "\n",
        "1. Satu chunk code untuk satu output\n",
        "2. Heading "
      ]
    },
    {
      "cell_type": "code",
      "metadata": {
        "id": "RPHnU5LJ_4ZE"
      },
      "source": [
        "# Heading 1\n",
        "## Heading 2\n",
        "### Heading 3\n",
        "#### Heading 4\n",
        "##### Heading 5\n",
        "###### Heading 6"
      ],
      "execution_count": null,
      "outputs": []
    },
    {
      "cell_type": "markdown",
      "metadata": {
        "id": "Azweuexi_-Ll"
      },
      "source": [
        "3. **Bold**, *Italic*, ***Bold Italic***, ~~Strikethrough~~"
      ]
    },
    {
      "cell_type": "code",
      "metadata": {
        "id": "RClESqzFAJli"
      },
      "source": [
        "# **bold**\n",
        "# *italic*\n",
        "# ***bold italic***\n",
        "# ~~strikethrough~~"
      ],
      "execution_count": null,
      "outputs": []
    },
    {
      "cell_type": "markdown",
      "metadata": {
        "id": "WiYH5UBOAO5R"
      },
      "source": [
        "4. Escaping backticks"
      ]
    },
    {
      "cell_type": "code",
      "metadata": {
        "id": "tUD-qhcLARdP"
      },
      "source": [
        "# Backtick within code\n",
        "` escaping this line `"
      ],
      "execution_count": null,
      "outputs": []
    },
    {
      "cell_type": "markdown",
      "metadata": {
        "id": "F4o5NobEBQ0A"
      },
      "source": [
        "**Aturan Lain**\n",
        "\n",
        "Tambahan : Gunakan library rmdformats untuk memperbagus hasil knit html. [Rmdformats](https://bookdown.org/yihui/rmarkdown/rmdformats.html)"
      ]
    },
    {
      "cell_type": "markdown",
      "metadata": {
        "id": "dXayb3n5Ckws"
      },
      "source": [
        "##**TAMBAHAN**\n",
        "\n",
        "+ Hindari menggunakan attach( )\n",
        "\n",
        "+ Hindari menggunakan file_choose\n",
        "\n",
        "+ Hindari menyimpan workspace ketika exit dari RStudio\n",
        "\n",
        "+ Konsisten dalam satu file"
      ]
    }
  ]
}